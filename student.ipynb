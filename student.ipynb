{
 "cells": [
  {
   "cell_type": "markdown",
   "metadata": {},
   "source": [
    "# Classification Model On AirBnB Listings Data"
   ]
  },
  {
   "cell_type": "markdown",
   "metadata": {},
   "source": [
    "**OSEMN Process**\n",
    "\n",
    "In the course of this project we will be following the OSEMN data science process. Meaning we will first obtain the data. The data set we selected was found on kaggle.com in csv format, so we'll need to load it into the Jupyter notebook. Next we are going to scrub the data. Namely, we are going to check for and modify as needed the data types, null values, and required columns. When data cleaning is complete, we can perform exploratory data analysis: check the distributions, examine descriptive statistics, and create visualizations. Finally, we are going to model the data using holdout validation for the selected classification model.\n",
    "\n",
    "**Dataset**\n",
    "\n",
    "The data set we are using for this research contains 74,111 records over 29 columns and demonstrates AirBnB listings in Major US Cities: New York City, San Francisco, Washington D.C., Los Angeles, Chicago, and Boston. The columns present the following information:\n",
    "> id, \n",
    "property_type, \n",
    "room_type, \n",
    "amenities, \n",
    "accommodates, \n",
    "bathrooms, \n",
    "bed_type, \n",
    "cancellation_policy, \n",
    "cleaning_fee, \n",
    "city, \n",
    "description, \n",
    "first_review, \n",
    "host_has_profile_pic, \n",
    "host_identity_verified, \n",
    "host_response_rate, \n",
    "host_since, \n",
    "instant_bookable, \n",
    "last_review, \n",
    "latitude, \n",
    "longitude, \n",
    "name, \n",
    "neighbourhood, \n",
    "number_of_reviews, \n",
    "review_scores_rating, \n",
    "thumbnail_url, \n",
    "zipcode, \n",
    "bedrooms, \n",
    "beds\n",
    "\n",
    "**Goal**\n",
    "\n",
    "The goal of this project is to determine how guests are going to rate their accommodation. Specifically, we will consider what parameters make an impact on ratings above or below 90. Originally, the metric we are going to predict consisted of floats, but to perform a classification solution we converted it to a binary outcome.\n",
    "\n",
    "## Obtaining The Data"
   ]
  },
  {
   "cell_type": "code",
   "execution_count": 1,
   "metadata": {},
   "outputs": [],
   "source": [
    "#load the necessary packages\n",
    "import pandas as pd\n",
    "import numpy as np\n",
    "np.random.seed(0)\n",
    "import matplotlib.pyplot as plt\n",
    "import seaborn as sns\n",
    "from sklearn.model_selection import train_test_split\n",
    "from sklearn.metrics import accuracy_score, confusion_matrix, classification_report\n",
    "from sklearn.tree import DecisionTreeClassifier\n",
    "from sklearn.ensemble import BaggingClassifier, RandomForestClassifier\n",
    "from sklearn.model_selection import GridSearchCV\n",
    "import warnings\n",
    "warnings.filterwarnings('ignore')\n",
    "%matplotlib inline"
   ]
  },
  {
   "cell_type": "code",
   "execution_count": 2,
   "metadata": {
    "scrolled": true
   },
   "outputs": [
    {
     "data": {
      "text/html": [
       "<div>\n",
       "<style scoped>\n",
       "    .dataframe tbody tr th:only-of-type {\n",
       "        vertical-align: middle;\n",
       "    }\n",
       "\n",
       "    .dataframe tbody tr th {\n",
       "        vertical-align: top;\n",
       "    }\n",
       "\n",
       "    .dataframe thead th {\n",
       "        text-align: right;\n",
       "    }\n",
       "</style>\n",
       "<table border=\"1\" class=\"dataframe\">\n",
       "  <thead>\n",
       "    <tr style=\"text-align: right;\">\n",
       "      <th></th>\n",
       "      <th>id</th>\n",
       "      <th>log_price</th>\n",
       "      <th>property_type</th>\n",
       "      <th>room_type</th>\n",
       "      <th>amenities</th>\n",
       "      <th>accommodates</th>\n",
       "      <th>bathrooms</th>\n",
       "      <th>bed_type</th>\n",
       "      <th>cancellation_policy</th>\n",
       "      <th>cleaning_fee</th>\n",
       "      <th>...</th>\n",
       "      <th>latitude</th>\n",
       "      <th>longitude</th>\n",
       "      <th>name</th>\n",
       "      <th>neighbourhood</th>\n",
       "      <th>number_of_reviews</th>\n",
       "      <th>review_scores_rating</th>\n",
       "      <th>thumbnail_url</th>\n",
       "      <th>zipcode</th>\n",
       "      <th>bedrooms</th>\n",
       "      <th>beds</th>\n",
       "    </tr>\n",
       "  </thead>\n",
       "  <tbody>\n",
       "    <tr>\n",
       "      <th>0</th>\n",
       "      <td>6901257</td>\n",
       "      <td>5.010635</td>\n",
       "      <td>Apartment</td>\n",
       "      <td>Entire home/apt</td>\n",
       "      <td>{\"Wireless Internet\",\"Air conditioning\",Kitche...</td>\n",
       "      <td>3</td>\n",
       "      <td>1.0</td>\n",
       "      <td>Real Bed</td>\n",
       "      <td>strict</td>\n",
       "      <td>True</td>\n",
       "      <td>...</td>\n",
       "      <td>40.696524</td>\n",
       "      <td>-73.991617</td>\n",
       "      <td>Beautiful brownstone 1-bedroom</td>\n",
       "      <td>Brooklyn Heights</td>\n",
       "      <td>2</td>\n",
       "      <td>100.0</td>\n",
       "      <td>https://a0.muscache.com/im/pictures/6d7cbbf7-c...</td>\n",
       "      <td>11201</td>\n",
       "      <td>1.0</td>\n",
       "      <td>1.0</td>\n",
       "    </tr>\n",
       "    <tr>\n",
       "      <th>1</th>\n",
       "      <td>6304928</td>\n",
       "      <td>5.129899</td>\n",
       "      <td>Apartment</td>\n",
       "      <td>Entire home/apt</td>\n",
       "      <td>{\"Wireless Internet\",\"Air conditioning\",Kitche...</td>\n",
       "      <td>7</td>\n",
       "      <td>1.0</td>\n",
       "      <td>Real Bed</td>\n",
       "      <td>strict</td>\n",
       "      <td>True</td>\n",
       "      <td>...</td>\n",
       "      <td>40.766115</td>\n",
       "      <td>-73.989040</td>\n",
       "      <td>Superb 3BR Apt Located Near Times Square</td>\n",
       "      <td>Hell's Kitchen</td>\n",
       "      <td>6</td>\n",
       "      <td>93.0</td>\n",
       "      <td>https://a0.muscache.com/im/pictures/348a55fe-4...</td>\n",
       "      <td>10019</td>\n",
       "      <td>3.0</td>\n",
       "      <td>3.0</td>\n",
       "    </tr>\n",
       "    <tr>\n",
       "      <th>2</th>\n",
       "      <td>7919400</td>\n",
       "      <td>4.976734</td>\n",
       "      <td>Apartment</td>\n",
       "      <td>Entire home/apt</td>\n",
       "      <td>{TV,\"Cable TV\",\"Wireless Internet\",\"Air condit...</td>\n",
       "      <td>5</td>\n",
       "      <td>1.0</td>\n",
       "      <td>Real Bed</td>\n",
       "      <td>moderate</td>\n",
       "      <td>True</td>\n",
       "      <td>...</td>\n",
       "      <td>40.808110</td>\n",
       "      <td>-73.943756</td>\n",
       "      <td>The Garden Oasis</td>\n",
       "      <td>Harlem</td>\n",
       "      <td>10</td>\n",
       "      <td>92.0</td>\n",
       "      <td>https://a0.muscache.com/im/pictures/6fae5362-9...</td>\n",
       "      <td>10027</td>\n",
       "      <td>1.0</td>\n",
       "      <td>3.0</td>\n",
       "    </tr>\n",
       "    <tr>\n",
       "      <th>3</th>\n",
       "      <td>13418779</td>\n",
       "      <td>6.620073</td>\n",
       "      <td>House</td>\n",
       "      <td>Entire home/apt</td>\n",
       "      <td>{TV,\"Cable TV\",Internet,\"Wireless Internet\",Ki...</td>\n",
       "      <td>4</td>\n",
       "      <td>1.0</td>\n",
       "      <td>Real Bed</td>\n",
       "      <td>flexible</td>\n",
       "      <td>True</td>\n",
       "      <td>...</td>\n",
       "      <td>37.772004</td>\n",
       "      <td>-122.431619</td>\n",
       "      <td>Beautiful Flat in the Heart of SF!</td>\n",
       "      <td>Lower Haight</td>\n",
       "      <td>0</td>\n",
       "      <td>NaN</td>\n",
       "      <td>https://a0.muscache.com/im/pictures/72208dad-9...</td>\n",
       "      <td>94117.0</td>\n",
       "      <td>2.0</td>\n",
       "      <td>2.0</td>\n",
       "    </tr>\n",
       "    <tr>\n",
       "      <th>4</th>\n",
       "      <td>3808709</td>\n",
       "      <td>4.744932</td>\n",
       "      <td>Apartment</td>\n",
       "      <td>Entire home/apt</td>\n",
       "      <td>{TV,Internet,\"Wireless Internet\",\"Air conditio...</td>\n",
       "      <td>2</td>\n",
       "      <td>1.0</td>\n",
       "      <td>Real Bed</td>\n",
       "      <td>moderate</td>\n",
       "      <td>True</td>\n",
       "      <td>...</td>\n",
       "      <td>38.925627</td>\n",
       "      <td>-77.034596</td>\n",
       "      <td>Great studio in midtown DC</td>\n",
       "      <td>Columbia Heights</td>\n",
       "      <td>4</td>\n",
       "      <td>40.0</td>\n",
       "      <td>NaN</td>\n",
       "      <td>20009</td>\n",
       "      <td>0.0</td>\n",
       "      <td>1.0</td>\n",
       "    </tr>\n",
       "  </tbody>\n",
       "</table>\n",
       "<p>5 rows × 29 columns</p>\n",
       "</div>"
      ],
      "text/plain": [
       "         id  log_price property_type        room_type  \\\n",
       "0   6901257   5.010635     Apartment  Entire home/apt   \n",
       "1   6304928   5.129899     Apartment  Entire home/apt   \n",
       "2   7919400   4.976734     Apartment  Entire home/apt   \n",
       "3  13418779   6.620073         House  Entire home/apt   \n",
       "4   3808709   4.744932     Apartment  Entire home/apt   \n",
       "\n",
       "                                           amenities  accommodates  bathrooms  \\\n",
       "0  {\"Wireless Internet\",\"Air conditioning\",Kitche...             3        1.0   \n",
       "1  {\"Wireless Internet\",\"Air conditioning\",Kitche...             7        1.0   \n",
       "2  {TV,\"Cable TV\",\"Wireless Internet\",\"Air condit...             5        1.0   \n",
       "3  {TV,\"Cable TV\",Internet,\"Wireless Internet\",Ki...             4        1.0   \n",
       "4  {TV,Internet,\"Wireless Internet\",\"Air conditio...             2        1.0   \n",
       "\n",
       "   bed_type cancellation_policy  cleaning_fee  ...    latitude   longitude  \\\n",
       "0  Real Bed              strict          True  ...   40.696524  -73.991617   \n",
       "1  Real Bed              strict          True  ...   40.766115  -73.989040   \n",
       "2  Real Bed            moderate          True  ...   40.808110  -73.943756   \n",
       "3  Real Bed            flexible          True  ...   37.772004 -122.431619   \n",
       "4  Real Bed            moderate          True  ...   38.925627  -77.034596   \n",
       "\n",
       "                                       name     neighbourhood  \\\n",
       "0            Beautiful brownstone 1-bedroom  Brooklyn Heights   \n",
       "1  Superb 3BR Apt Located Near Times Square    Hell's Kitchen   \n",
       "2                          The Garden Oasis            Harlem   \n",
       "3        Beautiful Flat in the Heart of SF!      Lower Haight   \n",
       "4                Great studio in midtown DC  Columbia Heights   \n",
       "\n",
       "  number_of_reviews review_scores_rating  \\\n",
       "0                 2                100.0   \n",
       "1                 6                 93.0   \n",
       "2                10                 92.0   \n",
       "3                 0                  NaN   \n",
       "4                 4                 40.0   \n",
       "\n",
       "                                       thumbnail_url  zipcode bedrooms  beds  \n",
       "0  https://a0.muscache.com/im/pictures/6d7cbbf7-c...    11201      1.0   1.0  \n",
       "1  https://a0.muscache.com/im/pictures/348a55fe-4...    10019      3.0   3.0  \n",
       "2  https://a0.muscache.com/im/pictures/6fae5362-9...    10027      1.0   3.0  \n",
       "3  https://a0.muscache.com/im/pictures/72208dad-9...  94117.0      2.0   2.0  \n",
       "4                                                NaN    20009      0.0   1.0  \n",
       "\n",
       "[5 rows x 29 columns]"
      ]
     },
     "execution_count": 2,
     "metadata": {},
     "output_type": "execute_result"
    }
   ],
   "source": [
    "#load the data set and view the first 5 rows\n",
    "train = pd.read_csv(\"train.csv\")\n",
    "train.head()"
   ]
  },
  {
   "cell_type": "code",
   "execution_count": 3,
   "metadata": {},
   "outputs": [
    {
     "data": {
      "text/plain": [
       "(74111, 29)"
      ]
     },
     "execution_count": 3,
     "metadata": {},
     "output_type": "execute_result"
    }
   ],
   "source": [
    "#view the number of rows and columns\n",
    "train.shape"
   ]
  },
  {
   "cell_type": "code",
   "execution_count": 4,
   "metadata": {
    "scrolled": true
   },
   "outputs": [
    {
     "name": "stdout",
     "output_type": "stream",
     "text": [
      "<class 'pandas.core.frame.DataFrame'>\n",
      "RangeIndex: 74111 entries, 0 to 74110\n",
      "Data columns (total 29 columns):\n",
      "id                        74111 non-null int64\n",
      "log_price                 74111 non-null float64\n",
      "property_type             74111 non-null object\n",
      "room_type                 74111 non-null object\n",
      "amenities                 74111 non-null object\n",
      "accommodates              74111 non-null int64\n",
      "bathrooms                 73911 non-null float64\n",
      "bed_type                  74111 non-null object\n",
      "cancellation_policy       74111 non-null object\n",
      "cleaning_fee              74111 non-null bool\n",
      "city                      74111 non-null object\n",
      "description               74111 non-null object\n",
      "first_review              58247 non-null object\n",
      "host_has_profile_pic      73923 non-null object\n",
      "host_identity_verified    73923 non-null object\n",
      "host_response_rate        55812 non-null object\n",
      "host_since                73923 non-null object\n",
      "instant_bookable          74111 non-null object\n",
      "last_review               58284 non-null object\n",
      "latitude                  74111 non-null float64\n",
      "longitude                 74111 non-null float64\n",
      "name                      74111 non-null object\n",
      "neighbourhood             67239 non-null object\n",
      "number_of_reviews         74111 non-null int64\n",
      "review_scores_rating      57389 non-null float64\n",
      "thumbnail_url             65895 non-null object\n",
      "zipcode                   73145 non-null object\n",
      "bedrooms                  74020 non-null float64\n",
      "beds                      73980 non-null float64\n",
      "dtypes: bool(1), float64(7), int64(3), object(18)\n",
      "memory usage: 15.9+ MB\n"
     ]
    }
   ],
   "source": [
    "#view data types and data input in each column\n",
    "train.info()"
   ]
  },
  {
   "cell_type": "markdown",
   "metadata": {},
   "source": [
    "Based on the problem we are solving, and the data presented, we are going to drop columns we will not need for this research"
   ]
  },
  {
   "cell_type": "code",
   "execution_count": 5,
   "metadata": {},
   "outputs": [
    {
     "data": {
      "text/html": [
       "<div>\n",
       "<style scoped>\n",
       "    .dataframe tbody tr th:only-of-type {\n",
       "        vertical-align: middle;\n",
       "    }\n",
       "\n",
       "    .dataframe tbody tr th {\n",
       "        vertical-align: top;\n",
       "    }\n",
       "\n",
       "    .dataframe thead th {\n",
       "        text-align: right;\n",
       "    }\n",
       "</style>\n",
       "<table border=\"1\" class=\"dataframe\">\n",
       "  <thead>\n",
       "    <tr style=\"text-align: right;\">\n",
       "      <th></th>\n",
       "      <th>property_type</th>\n",
       "      <th>room_type</th>\n",
       "      <th>accommodates</th>\n",
       "      <th>bed_type</th>\n",
       "      <th>cancellation_policy</th>\n",
       "      <th>cleaning_fee</th>\n",
       "      <th>host_has_profile_pic</th>\n",
       "      <th>host_identity_verified</th>\n",
       "      <th>host_response_rate</th>\n",
       "      <th>instant_bookable</th>\n",
       "      <th>number_of_reviews</th>\n",
       "      <th>review_scores_rating</th>\n",
       "      <th>bedrooms</th>\n",
       "      <th>beds</th>\n",
       "    </tr>\n",
       "  </thead>\n",
       "  <tbody>\n",
       "    <tr>\n",
       "      <th>0</th>\n",
       "      <td>Apartment</td>\n",
       "      <td>Entire home/apt</td>\n",
       "      <td>3</td>\n",
       "      <td>Real Bed</td>\n",
       "      <td>strict</td>\n",
       "      <td>True</td>\n",
       "      <td>t</td>\n",
       "      <td>t</td>\n",
       "      <td>NaN</td>\n",
       "      <td>f</td>\n",
       "      <td>2</td>\n",
       "      <td>100.0</td>\n",
       "      <td>1.0</td>\n",
       "      <td>1.0</td>\n",
       "    </tr>\n",
       "    <tr>\n",
       "      <th>1</th>\n",
       "      <td>Apartment</td>\n",
       "      <td>Entire home/apt</td>\n",
       "      <td>7</td>\n",
       "      <td>Real Bed</td>\n",
       "      <td>strict</td>\n",
       "      <td>True</td>\n",
       "      <td>t</td>\n",
       "      <td>f</td>\n",
       "      <td>100%</td>\n",
       "      <td>t</td>\n",
       "      <td>6</td>\n",
       "      <td>93.0</td>\n",
       "      <td>3.0</td>\n",
       "      <td>3.0</td>\n",
       "    </tr>\n",
       "    <tr>\n",
       "      <th>2</th>\n",
       "      <td>Apartment</td>\n",
       "      <td>Entire home/apt</td>\n",
       "      <td>5</td>\n",
       "      <td>Real Bed</td>\n",
       "      <td>moderate</td>\n",
       "      <td>True</td>\n",
       "      <td>t</td>\n",
       "      <td>t</td>\n",
       "      <td>100%</td>\n",
       "      <td>t</td>\n",
       "      <td>10</td>\n",
       "      <td>92.0</td>\n",
       "      <td>1.0</td>\n",
       "      <td>3.0</td>\n",
       "    </tr>\n",
       "    <tr>\n",
       "      <th>3</th>\n",
       "      <td>House</td>\n",
       "      <td>Entire home/apt</td>\n",
       "      <td>4</td>\n",
       "      <td>Real Bed</td>\n",
       "      <td>flexible</td>\n",
       "      <td>True</td>\n",
       "      <td>t</td>\n",
       "      <td>t</td>\n",
       "      <td>NaN</td>\n",
       "      <td>f</td>\n",
       "      <td>0</td>\n",
       "      <td>NaN</td>\n",
       "      <td>2.0</td>\n",
       "      <td>2.0</td>\n",
       "    </tr>\n",
       "    <tr>\n",
       "      <th>4</th>\n",
       "      <td>Apartment</td>\n",
       "      <td>Entire home/apt</td>\n",
       "      <td>2</td>\n",
       "      <td>Real Bed</td>\n",
       "      <td>moderate</td>\n",
       "      <td>True</td>\n",
       "      <td>t</td>\n",
       "      <td>t</td>\n",
       "      <td>100%</td>\n",
       "      <td>t</td>\n",
       "      <td>4</td>\n",
       "      <td>40.0</td>\n",
       "      <td>0.0</td>\n",
       "      <td>1.0</td>\n",
       "    </tr>\n",
       "  </tbody>\n",
       "</table>\n",
       "</div>"
      ],
      "text/plain": [
       "  property_type        room_type  accommodates  bed_type cancellation_policy  \\\n",
       "0     Apartment  Entire home/apt             3  Real Bed              strict   \n",
       "1     Apartment  Entire home/apt             7  Real Bed              strict   \n",
       "2     Apartment  Entire home/apt             5  Real Bed            moderate   \n",
       "3         House  Entire home/apt             4  Real Bed            flexible   \n",
       "4     Apartment  Entire home/apt             2  Real Bed            moderate   \n",
       "\n",
       "   cleaning_fee host_has_profile_pic host_identity_verified  \\\n",
       "0          True                    t                      t   \n",
       "1          True                    t                      f   \n",
       "2          True                    t                      t   \n",
       "3          True                    t                      t   \n",
       "4          True                    t                      t   \n",
       "\n",
       "  host_response_rate instant_bookable  number_of_reviews  \\\n",
       "0                NaN                f                  2   \n",
       "1               100%                t                  6   \n",
       "2               100%                t                 10   \n",
       "3                NaN                f                  0   \n",
       "4               100%                t                  4   \n",
       "\n",
       "   review_scores_rating  bedrooms  beds  \n",
       "0                 100.0       1.0   1.0  \n",
       "1                  93.0       3.0   3.0  \n",
       "2                  92.0       1.0   3.0  \n",
       "3                   NaN       2.0   2.0  \n",
       "4                  40.0       0.0   1.0  "
      ]
     },
     "execution_count": 5,
     "metadata": {},
     "output_type": "execute_result"
    }
   ],
   "source": [
    "#drop unnecessary columns\n",
    "df = train.drop(['id', 'amenities', 'description', 'latitude','longitude','name','neighbourhood','host_since','thumbnail_url','zipcode','log_price','city','first_review','bathrooms','last_review'], axis=1, inplace=False)\n",
    "df.head()"
   ]
  },
  {
   "cell_type": "code",
   "execution_count": 6,
   "metadata": {
    "scrolled": true
   },
   "outputs": [
    {
     "name": "stdout",
     "output_type": "stream",
     "text": [
      "<class 'pandas.core.frame.DataFrame'>\n",
      "RangeIndex: 74111 entries, 0 to 74110\n",
      "Data columns (total 14 columns):\n",
      "property_type             74111 non-null object\n",
      "room_type                 74111 non-null object\n",
      "accommodates              74111 non-null int64\n",
      "bed_type                  74111 non-null object\n",
      "cancellation_policy       74111 non-null object\n",
      "cleaning_fee              74111 non-null bool\n",
      "host_has_profile_pic      73923 non-null object\n",
      "host_identity_verified    73923 non-null object\n",
      "host_response_rate        55812 non-null object\n",
      "instant_bookable          74111 non-null object\n",
      "number_of_reviews         74111 non-null int64\n",
      "review_scores_rating      57389 non-null float64\n",
      "bedrooms                  74020 non-null float64\n",
      "beds                      73980 non-null float64\n",
      "dtypes: bool(1), float64(3), int64(2), object(8)\n",
      "memory usage: 7.4+ MB\n"
     ]
    }
   ],
   "source": [
    "#view the resulting dataframe\n",
    "df.info()"
   ]
  },
  {
   "cell_type": "markdown",
   "metadata": {},
   "source": [
    "## Scrubbing The Data\n",
    "\n",
    "Let's convert *cleaning_fee, host_has_profile_pic, host_identity_verified, and instant_bookable* to string data type, and perform further data transformation. "
   ]
  },
  {
   "cell_type": "code",
   "execution_count": 7,
   "metadata": {},
   "outputs": [],
   "source": [
    "#convert to string\n",
    "df.cleaning_fee = df.cleaning_fee.astype(str)\n",
    "df.host_has_profile_pic = df.host_has_profile_pic.astype(str)\n",
    "df.host_identity_verified = df.host_identity_verified.astype(str)\n",
    "df.instant_bookable = df.instant_bookable.astype(str)"
   ]
  },
  {
   "cell_type": "code",
   "execution_count": 8,
   "metadata": {
    "scrolled": true
   },
   "outputs": [
    {
     "data": {
      "text/html": [
       "<div>\n",
       "<style scoped>\n",
       "    .dataframe tbody tr th:only-of-type {\n",
       "        vertical-align: middle;\n",
       "    }\n",
       "\n",
       "    .dataframe tbody tr th {\n",
       "        vertical-align: top;\n",
       "    }\n",
       "\n",
       "    .dataframe thead th {\n",
       "        text-align: right;\n",
       "    }\n",
       "</style>\n",
       "<table border=\"1\" class=\"dataframe\">\n",
       "  <thead>\n",
       "    <tr style=\"text-align: right;\">\n",
       "      <th></th>\n",
       "      <th>property_type</th>\n",
       "      <th>room_type</th>\n",
       "      <th>accommodates</th>\n",
       "      <th>bed_type</th>\n",
       "      <th>cancellation_policy</th>\n",
       "      <th>cleaning_fee</th>\n",
       "      <th>host_has_profile_pic</th>\n",
       "      <th>host_identity_verified</th>\n",
       "      <th>host_response_rate</th>\n",
       "      <th>instant_bookable</th>\n",
       "      <th>number_of_reviews</th>\n",
       "      <th>review_scores_rating</th>\n",
       "      <th>bedrooms</th>\n",
       "      <th>beds</th>\n",
       "    </tr>\n",
       "  </thead>\n",
       "  <tbody>\n",
       "    <tr>\n",
       "      <th>0</th>\n",
       "      <td>Apartment</td>\n",
       "      <td>Entire home/apt</td>\n",
       "      <td>3</td>\n",
       "      <td>Real Bed</td>\n",
       "      <td>strict</td>\n",
       "      <td>1</td>\n",
       "      <td>1.0</td>\n",
       "      <td>1.0</td>\n",
       "      <td>NaN</td>\n",
       "      <td>0</td>\n",
       "      <td>2</td>\n",
       "      <td>100.0</td>\n",
       "      <td>1.0</td>\n",
       "      <td>1.0</td>\n",
       "    </tr>\n",
       "    <tr>\n",
       "      <th>1</th>\n",
       "      <td>Apartment</td>\n",
       "      <td>Entire home/apt</td>\n",
       "      <td>7</td>\n",
       "      <td>Real Bed</td>\n",
       "      <td>strict</td>\n",
       "      <td>1</td>\n",
       "      <td>1.0</td>\n",
       "      <td>0.0</td>\n",
       "      <td>100%</td>\n",
       "      <td>1</td>\n",
       "      <td>6</td>\n",
       "      <td>93.0</td>\n",
       "      <td>3.0</td>\n",
       "      <td>3.0</td>\n",
       "    </tr>\n",
       "    <tr>\n",
       "      <th>2</th>\n",
       "      <td>Apartment</td>\n",
       "      <td>Entire home/apt</td>\n",
       "      <td>5</td>\n",
       "      <td>Real Bed</td>\n",
       "      <td>moderate</td>\n",
       "      <td>1</td>\n",
       "      <td>1.0</td>\n",
       "      <td>1.0</td>\n",
       "      <td>100%</td>\n",
       "      <td>1</td>\n",
       "      <td>10</td>\n",
       "      <td>92.0</td>\n",
       "      <td>1.0</td>\n",
       "      <td>3.0</td>\n",
       "    </tr>\n",
       "    <tr>\n",
       "      <th>3</th>\n",
       "      <td>House</td>\n",
       "      <td>Entire home/apt</td>\n",
       "      <td>4</td>\n",
       "      <td>Real Bed</td>\n",
       "      <td>flexible</td>\n",
       "      <td>1</td>\n",
       "      <td>1.0</td>\n",
       "      <td>1.0</td>\n",
       "      <td>NaN</td>\n",
       "      <td>0</td>\n",
       "      <td>0</td>\n",
       "      <td>NaN</td>\n",
       "      <td>2.0</td>\n",
       "      <td>2.0</td>\n",
       "    </tr>\n",
       "    <tr>\n",
       "      <th>4</th>\n",
       "      <td>Apartment</td>\n",
       "      <td>Entire home/apt</td>\n",
       "      <td>2</td>\n",
       "      <td>Real Bed</td>\n",
       "      <td>moderate</td>\n",
       "      <td>1</td>\n",
       "      <td>1.0</td>\n",
       "      <td>1.0</td>\n",
       "      <td>100%</td>\n",
       "      <td>1</td>\n",
       "      <td>4</td>\n",
       "      <td>40.0</td>\n",
       "      <td>0.0</td>\n",
       "      <td>1.0</td>\n",
       "    </tr>\n",
       "  </tbody>\n",
       "</table>\n",
       "</div>"
      ],
      "text/plain": [
       "  property_type        room_type  accommodates  bed_type cancellation_policy  \\\n",
       "0     Apartment  Entire home/apt             3  Real Bed              strict   \n",
       "1     Apartment  Entire home/apt             7  Real Bed              strict   \n",
       "2     Apartment  Entire home/apt             5  Real Bed            moderate   \n",
       "3         House  Entire home/apt             4  Real Bed            flexible   \n",
       "4     Apartment  Entire home/apt             2  Real Bed            moderate   \n",
       "\n",
       "   cleaning_fee  host_has_profile_pic  host_identity_verified  \\\n",
       "0             1                   1.0                     1.0   \n",
       "1             1                   1.0                     0.0   \n",
       "2             1                   1.0                     1.0   \n",
       "3             1                   1.0                     1.0   \n",
       "4             1                   1.0                     1.0   \n",
       "\n",
       "  host_response_rate  instant_bookable  number_of_reviews  \\\n",
       "0                NaN                 0                  2   \n",
       "1               100%                 1                  6   \n",
       "2               100%                 1                 10   \n",
       "3                NaN                 0                  0   \n",
       "4               100%                 1                  4   \n",
       "\n",
       "   review_scores_rating  bedrooms  beds  \n",
       "0                 100.0       1.0   1.0  \n",
       "1                  93.0       3.0   3.0  \n",
       "2                  92.0       1.0   3.0  \n",
       "3                   NaN       2.0   2.0  \n",
       "4                  40.0       0.0   1.0  "
      ]
     },
     "execution_count": 8,
     "metadata": {},
     "output_type": "execute_result"
    }
   ],
   "source": [
    "#map true or false values as 0 and 1\n",
    "df.cleaning_fee = df.cleaning_fee.map({'False': 0, 'True': 1})\n",
    "df.host_has_profile_pic = df.host_has_profile_pic.map({'f': 0, 't': 1})\n",
    "df.host_identity_verified = df.host_identity_verified.map({'f': 0, 't': 1})\n",
    "df.instant_bookable = df.instant_bookable.map({'f': 0, 't': 1})\n",
    "df.head()"
   ]
  },
  {
   "cell_type": "code",
   "execution_count": 9,
   "metadata": {},
   "outputs": [],
   "source": [
    "#convert host_response_rate from % to float\n",
    "df['host_response_rate'] = df['host_response_rate'].str.rstrip('%').astype('float')"
   ]
  },
  {
   "cell_type": "code",
   "execution_count": 10,
   "metadata": {
    "scrolled": true
   },
   "outputs": [
    {
     "name": "stdout",
     "output_type": "stream",
     "text": [
      "<class 'pandas.core.frame.DataFrame'>\n",
      "RangeIndex: 74111 entries, 0 to 74110\n",
      "Data columns (total 14 columns):\n",
      "property_type             74111 non-null object\n",
      "room_type                 74111 non-null object\n",
      "accommodates              74111 non-null int64\n",
      "bed_type                  74111 non-null object\n",
      "cancellation_policy       74111 non-null object\n",
      "cleaning_fee              74111 non-null int64\n",
      "host_has_profile_pic      73923 non-null float64\n",
      "host_identity_verified    73923 non-null float64\n",
      "host_response_rate        55812 non-null float64\n",
      "instant_bookable          74111 non-null int64\n",
      "number_of_reviews         74111 non-null int64\n",
      "review_scores_rating      57389 non-null float64\n",
      "bedrooms                  74020 non-null float64\n",
      "beds                      73980 non-null float64\n",
      "dtypes: float64(6), int64(4), object(4)\n",
      "memory usage: 7.9+ MB\n"
     ]
    }
   ],
   "source": [
    "#view results\n",
    "df.info()"
   ]
  },
  {
   "cell_type": "markdown",
   "metadata": {},
   "source": [
    "As we can see from the data above, *host_response_rate* has missing values, but this column might be helpful for us when identifying how customers rate their accommodations. For this reason, we are going to keep this column and will fill in NaNs with the median values."
   ]
  },
  {
   "cell_type": "code",
   "execution_count": 11,
   "metadata": {
    "scrolled": true
   },
   "outputs": [
    {
     "data": {
      "text/plain": [
       "property_type                 0\n",
       "room_type                     0\n",
       "accommodates                  0\n",
       "bed_type                      0\n",
       "cancellation_policy           0\n",
       "cleaning_fee                  0\n",
       "host_has_profile_pic        188\n",
       "host_identity_verified      188\n",
       "host_response_rate            0\n",
       "instant_bookable              0\n",
       "number_of_reviews             0\n",
       "review_scores_rating      16722\n",
       "bedrooms                     91\n",
       "beds                        131\n",
       "dtype: int64"
      ]
     },
     "execution_count": 11,
     "metadata": {},
     "output_type": "execute_result"
    }
   ],
   "source": [
    "#fill NaNs wiht median values and check for nas\n",
    "df.host_response_rate = df.host_response_rate.fillna(df.host_response_rate.median())\n",
    "df.isna().sum()"
   ]
  },
  {
   "cell_type": "markdown",
   "metadata": {},
   "source": [
    "We have a relatively small amount of missing values in 4 categories, and 16,722 missing values in *review_scores_rating*. Since this is the category we are going to predict, filling in missing values with median scores might skew the data, so here we decide to drop all the NaNs."
   ]
  },
  {
   "cell_type": "code",
   "execution_count": 12,
   "metadata": {},
   "outputs": [
    {
     "data": {
      "text/plain": [
       "property_type             0\n",
       "room_type                 0\n",
       "accommodates              0\n",
       "bed_type                  0\n",
       "cancellation_policy       0\n",
       "cleaning_fee              0\n",
       "host_has_profile_pic      0\n",
       "host_identity_verified    0\n",
       "host_response_rate        0\n",
       "instant_bookable          0\n",
       "number_of_reviews         0\n",
       "review_scores_rating      0\n",
       "bedrooms                  0\n",
       "beds                      0\n",
       "dtype: int64"
      ]
     },
     "execution_count": 12,
     "metadata": {},
     "output_type": "execute_result"
    }
   ],
   "source": [
    "#drop NaNs\n",
    "df = df.dropna()\n",
    "df.isna().sum()"
   ]
  },
  {
   "cell_type": "code",
   "execution_count": 13,
   "metadata": {},
   "outputs": [
    {
     "name": "stdout",
     "output_type": "stream",
     "text": [
      "<class 'pandas.core.frame.DataFrame'>\n",
      "Int64Index: 57126 entries, 0 to 74110\n",
      "Data columns (total 14 columns):\n",
      "property_type             57126 non-null object\n",
      "room_type                 57126 non-null object\n",
      "accommodates              57126 non-null int64\n",
      "bed_type                  57126 non-null object\n",
      "cancellation_policy       57126 non-null object\n",
      "cleaning_fee              57126 non-null int64\n",
      "host_has_profile_pic      57126 non-null float64\n",
      "host_identity_verified    57126 non-null float64\n",
      "host_response_rate        57126 non-null float64\n",
      "instant_bookable          57126 non-null int64\n",
      "number_of_reviews         57126 non-null int64\n",
      "review_scores_rating      57126 non-null float64\n",
      "bedrooms                  57126 non-null float64\n",
      "beds                      57126 non-null float64\n",
      "dtypes: float64(6), int64(4), object(4)\n",
      "memory usage: 6.5+ MB\n"
     ]
    }
   ],
   "source": [
    "#view results\n",
    "df.info()"
   ]
  },
  {
   "cell_type": "code",
   "execution_count": 14,
   "metadata": {
    "scrolled": true
   },
   "outputs": [],
   "source": [
    "#transform floats to integers\n",
    "df.host_has_profile_pic = df.host_has_profile_pic.astype(int)\n",
    "df.host_identity_verified = df.host_identity_verified.astype(int)\n",
    "df.instant_bookable = df.instant_bookable.astype(int)\n",
    "df.bedrooms = df.bedrooms.astype(int)\n",
    "df.beds = df.beds.astype(int)\n",
    "df.review_scores_rating = df.review_scores_rating.astype(int)\n",
    "df.host_response_rate = df.host_response_rate.astype(int)"
   ]
  },
  {
   "cell_type": "code",
   "execution_count": 15,
   "metadata": {
    "scrolled": true
   },
   "outputs": [
    {
     "data": {
      "text/html": [
       "<div>\n",
       "<style scoped>\n",
       "    .dataframe tbody tr th:only-of-type {\n",
       "        vertical-align: middle;\n",
       "    }\n",
       "\n",
       "    .dataframe tbody tr th {\n",
       "        vertical-align: top;\n",
       "    }\n",
       "\n",
       "    .dataframe thead th {\n",
       "        text-align: right;\n",
       "    }\n",
       "</style>\n",
       "<table border=\"1\" class=\"dataframe\">\n",
       "  <thead>\n",
       "    <tr style=\"text-align: right;\">\n",
       "      <th></th>\n",
       "      <th>property_type</th>\n",
       "      <th>room_type</th>\n",
       "      <th>accommodates</th>\n",
       "      <th>bed_type</th>\n",
       "      <th>cancellation_policy</th>\n",
       "      <th>cleaning_fee</th>\n",
       "      <th>host_has_profile_pic</th>\n",
       "      <th>host_identity_verified</th>\n",
       "      <th>host_response_rate</th>\n",
       "      <th>instant_bookable</th>\n",
       "      <th>number_of_reviews</th>\n",
       "      <th>review_scores_rating</th>\n",
       "      <th>bedrooms</th>\n",
       "      <th>beds</th>\n",
       "    </tr>\n",
       "  </thead>\n",
       "  <tbody>\n",
       "    <tr>\n",
       "      <th>0</th>\n",
       "      <td>Apartment</td>\n",
       "      <td>Entire home/apt</td>\n",
       "      <td>3</td>\n",
       "      <td>Real Bed</td>\n",
       "      <td>strict</td>\n",
       "      <td>1</td>\n",
       "      <td>1</td>\n",
       "      <td>1</td>\n",
       "      <td>100</td>\n",
       "      <td>0</td>\n",
       "      <td>2</td>\n",
       "      <td>100</td>\n",
       "      <td>1</td>\n",
       "      <td>1</td>\n",
       "    </tr>\n",
       "    <tr>\n",
       "      <th>1</th>\n",
       "      <td>Apartment</td>\n",
       "      <td>Entire home/apt</td>\n",
       "      <td>7</td>\n",
       "      <td>Real Bed</td>\n",
       "      <td>strict</td>\n",
       "      <td>1</td>\n",
       "      <td>1</td>\n",
       "      <td>0</td>\n",
       "      <td>100</td>\n",
       "      <td>1</td>\n",
       "      <td>6</td>\n",
       "      <td>93</td>\n",
       "      <td>3</td>\n",
       "      <td>3</td>\n",
       "    </tr>\n",
       "    <tr>\n",
       "      <th>2</th>\n",
       "      <td>Apartment</td>\n",
       "      <td>Entire home/apt</td>\n",
       "      <td>5</td>\n",
       "      <td>Real Bed</td>\n",
       "      <td>moderate</td>\n",
       "      <td>1</td>\n",
       "      <td>1</td>\n",
       "      <td>1</td>\n",
       "      <td>100</td>\n",
       "      <td>1</td>\n",
       "      <td>10</td>\n",
       "      <td>92</td>\n",
       "      <td>1</td>\n",
       "      <td>3</td>\n",
       "    </tr>\n",
       "    <tr>\n",
       "      <th>4</th>\n",
       "      <td>Apartment</td>\n",
       "      <td>Entire home/apt</td>\n",
       "      <td>2</td>\n",
       "      <td>Real Bed</td>\n",
       "      <td>moderate</td>\n",
       "      <td>1</td>\n",
       "      <td>1</td>\n",
       "      <td>1</td>\n",
       "      <td>100</td>\n",
       "      <td>1</td>\n",
       "      <td>4</td>\n",
       "      <td>40</td>\n",
       "      <td>0</td>\n",
       "      <td>1</td>\n",
       "    </tr>\n",
       "    <tr>\n",
       "      <th>5</th>\n",
       "      <td>Apartment</td>\n",
       "      <td>Private room</td>\n",
       "      <td>2</td>\n",
       "      <td>Real Bed</td>\n",
       "      <td>strict</td>\n",
       "      <td>1</td>\n",
       "      <td>1</td>\n",
       "      <td>1</td>\n",
       "      <td>100</td>\n",
       "      <td>1</td>\n",
       "      <td>3</td>\n",
       "      <td>100</td>\n",
       "      <td>1</td>\n",
       "      <td>1</td>\n",
       "    </tr>\n",
       "  </tbody>\n",
       "</table>\n",
       "</div>"
      ],
      "text/plain": [
       "  property_type        room_type  accommodates  bed_type cancellation_policy  \\\n",
       "0     Apartment  Entire home/apt             3  Real Bed              strict   \n",
       "1     Apartment  Entire home/apt             7  Real Bed              strict   \n",
       "2     Apartment  Entire home/apt             5  Real Bed            moderate   \n",
       "4     Apartment  Entire home/apt             2  Real Bed            moderate   \n",
       "5     Apartment     Private room             2  Real Bed              strict   \n",
       "\n",
       "   cleaning_fee  host_has_profile_pic  host_identity_verified  \\\n",
       "0             1                     1                       1   \n",
       "1             1                     1                       0   \n",
       "2             1                     1                       1   \n",
       "4             1                     1                       1   \n",
       "5             1                     1                       1   \n",
       "\n",
       "   host_response_rate  instant_bookable  number_of_reviews  \\\n",
       "0                 100                 0                  2   \n",
       "1                 100                 1                  6   \n",
       "2                 100                 1                 10   \n",
       "4                 100                 1                  4   \n",
       "5                 100                 1                  3   \n",
       "\n",
       "   review_scores_rating  bedrooms  beds  \n",
       "0                   100         1     1  \n",
       "1                    93         3     3  \n",
       "2                    92         1     3  \n",
       "4                    40         0     1  \n",
       "5                   100         1     1  "
      ]
     },
     "execution_count": 15,
     "metadata": {},
     "output_type": "execute_result"
    }
   ],
   "source": [
    "#view the first 5 rows\n",
    "df.head()"
   ]
  },
  {
   "cell_type": "markdown",
   "metadata": {},
   "source": [
    "Let's view the 5 point statistics and see what conclusions we can draw from the table."
   ]
  },
  {
   "cell_type": "code",
   "execution_count": 16,
   "metadata": {
    "scrolled": true
   },
   "outputs": [
    {
     "data": {
      "text/html": [
       "<div>\n",
       "<style scoped>\n",
       "    .dataframe tbody tr th:only-of-type {\n",
       "        vertical-align: middle;\n",
       "    }\n",
       "\n",
       "    .dataframe tbody tr th {\n",
       "        vertical-align: top;\n",
       "    }\n",
       "\n",
       "    .dataframe thead th {\n",
       "        text-align: right;\n",
       "    }\n",
       "</style>\n",
       "<table border=\"1\" class=\"dataframe\">\n",
       "  <thead>\n",
       "    <tr style=\"text-align: right;\">\n",
       "      <th></th>\n",
       "      <th>accommodates</th>\n",
       "      <th>cleaning_fee</th>\n",
       "      <th>host_has_profile_pic</th>\n",
       "      <th>host_identity_verified</th>\n",
       "      <th>host_response_rate</th>\n",
       "      <th>instant_bookable</th>\n",
       "      <th>number_of_reviews</th>\n",
       "      <th>review_scores_rating</th>\n",
       "      <th>bedrooms</th>\n",
       "      <th>beds</th>\n",
       "    </tr>\n",
       "  </thead>\n",
       "  <tbody>\n",
       "    <tr>\n",
       "      <th>count</th>\n",
       "      <td>57126.000000</td>\n",
       "      <td>57126.000000</td>\n",
       "      <td>57126.000000</td>\n",
       "      <td>57126.000000</td>\n",
       "      <td>57126.000000</td>\n",
       "      <td>57126.000000</td>\n",
       "      <td>57126.000000</td>\n",
       "      <td>57126.000000</td>\n",
       "      <td>57126.000000</td>\n",
       "      <td>57126.000000</td>\n",
       "    </tr>\n",
       "    <tr>\n",
       "      <th>mean</th>\n",
       "      <td>3.221440</td>\n",
       "      <td>0.794612</td>\n",
       "      <td>0.998372</td>\n",
       "      <td>0.728898</td>\n",
       "      <td>96.265938</td>\n",
       "      <td>0.268162</td>\n",
       "      <td>26.968176</td>\n",
       "      <td>94.072821</td>\n",
       "      <td>1.261790</td>\n",
       "      <td>1.739243</td>\n",
       "    </tr>\n",
       "    <tr>\n",
       "      <th>std</th>\n",
       "      <td>2.146025</td>\n",
       "      <td>0.403988</td>\n",
       "      <td>0.040316</td>\n",
       "      <td>0.444533</td>\n",
       "      <td>12.297843</td>\n",
       "      <td>0.443006</td>\n",
       "      <td>41.044811</td>\n",
       "      <td>7.828122</td>\n",
       "      <td>0.842357</td>\n",
       "      <td>1.266583</td>\n",
       "    </tr>\n",
       "    <tr>\n",
       "      <th>min</th>\n",
       "      <td>1.000000</td>\n",
       "      <td>0.000000</td>\n",
       "      <td>0.000000</td>\n",
       "      <td>0.000000</td>\n",
       "      <td>0.000000</td>\n",
       "      <td>0.000000</td>\n",
       "      <td>1.000000</td>\n",
       "      <td>20.000000</td>\n",
       "      <td>0.000000</td>\n",
       "      <td>0.000000</td>\n",
       "    </tr>\n",
       "    <tr>\n",
       "      <th>25%</th>\n",
       "      <td>2.000000</td>\n",
       "      <td>1.000000</td>\n",
       "      <td>1.000000</td>\n",
       "      <td>0.000000</td>\n",
       "      <td>100.000000</td>\n",
       "      <td>0.000000</td>\n",
       "      <td>3.000000</td>\n",
       "      <td>92.000000</td>\n",
       "      <td>1.000000</td>\n",
       "      <td>1.000000</td>\n",
       "    </tr>\n",
       "    <tr>\n",
       "      <th>50%</th>\n",
       "      <td>2.000000</td>\n",
       "      <td>1.000000</td>\n",
       "      <td>1.000000</td>\n",
       "      <td>1.000000</td>\n",
       "      <td>100.000000</td>\n",
       "      <td>0.000000</td>\n",
       "      <td>11.000000</td>\n",
       "      <td>96.000000</td>\n",
       "      <td>1.000000</td>\n",
       "      <td>1.000000</td>\n",
       "    </tr>\n",
       "    <tr>\n",
       "      <th>75%</th>\n",
       "      <td>4.000000</td>\n",
       "      <td>1.000000</td>\n",
       "      <td>1.000000</td>\n",
       "      <td>1.000000</td>\n",
       "      <td>100.000000</td>\n",
       "      <td>1.000000</td>\n",
       "      <td>33.000000</td>\n",
       "      <td>100.000000</td>\n",
       "      <td>1.000000</td>\n",
       "      <td>2.000000</td>\n",
       "    </tr>\n",
       "    <tr>\n",
       "      <th>max</th>\n",
       "      <td>16.000000</td>\n",
       "      <td>1.000000</td>\n",
       "      <td>1.000000</td>\n",
       "      <td>1.000000</td>\n",
       "      <td>100.000000</td>\n",
       "      <td>1.000000</td>\n",
       "      <td>605.000000</td>\n",
       "      <td>100.000000</td>\n",
       "      <td>10.000000</td>\n",
       "      <td>18.000000</td>\n",
       "    </tr>\n",
       "  </tbody>\n",
       "</table>\n",
       "</div>"
      ],
      "text/plain": [
       "       accommodates  cleaning_fee  host_has_profile_pic  \\\n",
       "count  57126.000000  57126.000000          57126.000000   \n",
       "mean       3.221440      0.794612              0.998372   \n",
       "std        2.146025      0.403988              0.040316   \n",
       "min        1.000000      0.000000              0.000000   \n",
       "25%        2.000000      1.000000              1.000000   \n",
       "50%        2.000000      1.000000              1.000000   \n",
       "75%        4.000000      1.000000              1.000000   \n",
       "max       16.000000      1.000000              1.000000   \n",
       "\n",
       "       host_identity_verified  host_response_rate  instant_bookable  \\\n",
       "count            57126.000000        57126.000000      57126.000000   \n",
       "mean                 0.728898           96.265938          0.268162   \n",
       "std                  0.444533           12.297843          0.443006   \n",
       "min                  0.000000            0.000000          0.000000   \n",
       "25%                  0.000000          100.000000          0.000000   \n",
       "50%                  1.000000          100.000000          0.000000   \n",
       "75%                  1.000000          100.000000          1.000000   \n",
       "max                  1.000000          100.000000          1.000000   \n",
       "\n",
       "       number_of_reviews  review_scores_rating      bedrooms          beds  \n",
       "count       57126.000000          57126.000000  57126.000000  57126.000000  \n",
       "mean           26.968176             94.072821      1.261790      1.739243  \n",
       "std            41.044811              7.828122      0.842357      1.266583  \n",
       "min             1.000000             20.000000      0.000000      0.000000  \n",
       "25%             3.000000             92.000000      1.000000      1.000000  \n",
       "50%            11.000000             96.000000      1.000000      1.000000  \n",
       "75%            33.000000            100.000000      1.000000      2.000000  \n",
       "max           605.000000            100.000000     10.000000     18.000000  "
      ]
     },
     "execution_count": 16,
     "metadata": {},
     "output_type": "execute_result"
    }
   ],
   "source": [
    "df.describe()"
   ]
  },
  {
   "cell_type": "markdown",
   "metadata": {},
   "source": [
    "Interestingly, the AirBnB hosts have a very high response rate to guests; it equals 100 in the 25% already. Most of the listings don't have a lot of reviews with 75% of cases having 33 reviews or less. The average review scores are pretty high for these properties: 50% of the listings have a score of 96 or higher.\n",
    "\n",
    "Is there any correlation among the metrics influencing how customers rate their stay?"
   ]
  },
  {
   "cell_type": "code",
   "execution_count": 17,
   "metadata": {},
   "outputs": [
    {
     "data": {
      "text/html": [
       "<div>\n",
       "<style scoped>\n",
       "    .dataframe tbody tr th:only-of-type {\n",
       "        vertical-align: middle;\n",
       "    }\n",
       "\n",
       "    .dataframe tbody tr th {\n",
       "        vertical-align: top;\n",
       "    }\n",
       "\n",
       "    .dataframe thead th {\n",
       "        text-align: right;\n",
       "    }\n",
       "</style>\n",
       "<table border=\"1\" class=\"dataframe\">\n",
       "  <thead>\n",
       "    <tr style=\"text-align: right;\">\n",
       "      <th></th>\n",
       "      <th>accommodates</th>\n",
       "      <th>cleaning_fee</th>\n",
       "      <th>host_has_profile_pic</th>\n",
       "      <th>host_identity_verified</th>\n",
       "      <th>host_response_rate</th>\n",
       "      <th>instant_bookable</th>\n",
       "      <th>number_of_reviews</th>\n",
       "      <th>review_scores_rating</th>\n",
       "      <th>bedrooms</th>\n",
       "      <th>beds</th>\n",
       "    </tr>\n",
       "  </thead>\n",
       "  <tbody>\n",
       "    <tr>\n",
       "      <th>accommodates</th>\n",
       "      <td>1.000000</td>\n",
       "      <td>0.177305</td>\n",
       "      <td>-0.009389</td>\n",
       "      <td>0.043938</td>\n",
       "      <td>0.026710</td>\n",
       "      <td>0.056561</td>\n",
       "      <td>0.031063</td>\n",
       "      <td>-0.017575</td>\n",
       "      <td>0.720580</td>\n",
       "      <td>0.824606</td>\n",
       "    </tr>\n",
       "    <tr>\n",
       "      <th>cleaning_fee</th>\n",
       "      <td>0.177305</td>\n",
       "      <td>1.000000</td>\n",
       "      <td>0.005265</td>\n",
       "      <td>0.107045</td>\n",
       "      <td>0.039351</td>\n",
       "      <td>0.017737</td>\n",
       "      <td>0.045462</td>\n",
       "      <td>0.034565</td>\n",
       "      <td>0.113148</td>\n",
       "      <td>0.125711</td>\n",
       "    </tr>\n",
       "    <tr>\n",
       "      <th>host_has_profile_pic</th>\n",
       "      <td>-0.009389</td>\n",
       "      <td>0.005265</td>\n",
       "      <td>1.000000</td>\n",
       "      <td>0.059376</td>\n",
       "      <td>0.009453</td>\n",
       "      <td>-0.006921</td>\n",
       "      <td>0.009923</td>\n",
       "      <td>0.006810</td>\n",
       "      <td>0.005333</td>\n",
       "      <td>-0.004542</td>\n",
       "    </tr>\n",
       "    <tr>\n",
       "      <th>host_identity_verified</th>\n",
       "      <td>0.043938</td>\n",
       "      <td>0.107045</td>\n",
       "      <td>0.059376</td>\n",
       "      <td>1.000000</td>\n",
       "      <td>0.031850</td>\n",
       "      <td>-0.093779</td>\n",
       "      <td>0.121440</td>\n",
       "      <td>0.055667</td>\n",
       "      <td>0.028673</td>\n",
       "      <td>0.027536</td>\n",
       "    </tr>\n",
       "    <tr>\n",
       "      <th>host_response_rate</th>\n",
       "      <td>0.026710</td>\n",
       "      <td>0.039351</td>\n",
       "      <td>0.009453</td>\n",
       "      <td>0.031850</td>\n",
       "      <td>1.000000</td>\n",
       "      <td>0.088315</td>\n",
       "      <td>0.072492</td>\n",
       "      <td>0.073784</td>\n",
       "      <td>0.018507</td>\n",
       "      <td>0.029024</td>\n",
       "    </tr>\n",
       "    <tr>\n",
       "      <th>instant_bookable</th>\n",
       "      <td>0.056561</td>\n",
       "      <td>0.017737</td>\n",
       "      <td>-0.006921</td>\n",
       "      <td>-0.093779</td>\n",
       "      <td>0.088315</td>\n",
       "      <td>1.000000</td>\n",
       "      <td>0.083113</td>\n",
       "      <td>-0.068871</td>\n",
       "      <td>-0.002550</td>\n",
       "      <td>0.058794</td>\n",
       "    </tr>\n",
       "    <tr>\n",
       "      <th>number_of_reviews</th>\n",
       "      <td>0.031063</td>\n",
       "      <td>0.045462</td>\n",
       "      <td>0.009923</td>\n",
       "      <td>0.121440</td>\n",
       "      <td>0.072492</td>\n",
       "      <td>0.083113</td>\n",
       "      <td>1.000000</td>\n",
       "      <td>0.011491</td>\n",
       "      <td>-0.038559</td>\n",
       "      <td>0.023084</td>\n",
       "    </tr>\n",
       "    <tr>\n",
       "      <th>review_scores_rating</th>\n",
       "      <td>-0.017575</td>\n",
       "      <td>0.034565</td>\n",
       "      <td>0.006810</td>\n",
       "      <td>0.055667</td>\n",
       "      <td>0.073784</td>\n",
       "      <td>-0.068871</td>\n",
       "      <td>0.011491</td>\n",
       "      <td>1.000000</td>\n",
       "      <td>0.010892</td>\n",
       "      <td>-0.027383</td>\n",
       "    </tr>\n",
       "    <tr>\n",
       "      <th>bedrooms</th>\n",
       "      <td>0.720580</td>\n",
       "      <td>0.113148</td>\n",
       "      <td>0.005333</td>\n",
       "      <td>0.028673</td>\n",
       "      <td>0.018507</td>\n",
       "      <td>-0.002550</td>\n",
       "      <td>-0.038559</td>\n",
       "      <td>0.010892</td>\n",
       "      <td>1.000000</td>\n",
       "      <td>0.704928</td>\n",
       "    </tr>\n",
       "    <tr>\n",
       "      <th>beds</th>\n",
       "      <td>0.824606</td>\n",
       "      <td>0.125711</td>\n",
       "      <td>-0.004542</td>\n",
       "      <td>0.027536</td>\n",
       "      <td>0.029024</td>\n",
       "      <td>0.058794</td>\n",
       "      <td>0.023084</td>\n",
       "      <td>-0.027383</td>\n",
       "      <td>0.704928</td>\n",
       "      <td>1.000000</td>\n",
       "    </tr>\n",
       "  </tbody>\n",
       "</table>\n",
       "</div>"
      ],
      "text/plain": [
       "                        accommodates  cleaning_fee  host_has_profile_pic  \\\n",
       "accommodates                1.000000      0.177305             -0.009389   \n",
       "cleaning_fee                0.177305      1.000000              0.005265   \n",
       "host_has_profile_pic       -0.009389      0.005265              1.000000   \n",
       "host_identity_verified      0.043938      0.107045              0.059376   \n",
       "host_response_rate          0.026710      0.039351              0.009453   \n",
       "instant_bookable            0.056561      0.017737             -0.006921   \n",
       "number_of_reviews           0.031063      0.045462              0.009923   \n",
       "review_scores_rating       -0.017575      0.034565              0.006810   \n",
       "bedrooms                    0.720580      0.113148              0.005333   \n",
       "beds                        0.824606      0.125711             -0.004542   \n",
       "\n",
       "                        host_identity_verified  host_response_rate  \\\n",
       "accommodates                          0.043938            0.026710   \n",
       "cleaning_fee                          0.107045            0.039351   \n",
       "host_has_profile_pic                  0.059376            0.009453   \n",
       "host_identity_verified                1.000000            0.031850   \n",
       "host_response_rate                    0.031850            1.000000   \n",
       "instant_bookable                     -0.093779            0.088315   \n",
       "number_of_reviews                     0.121440            0.072492   \n",
       "review_scores_rating                  0.055667            0.073784   \n",
       "bedrooms                              0.028673            0.018507   \n",
       "beds                                  0.027536            0.029024   \n",
       "\n",
       "                        instant_bookable  number_of_reviews  \\\n",
       "accommodates                    0.056561           0.031063   \n",
       "cleaning_fee                    0.017737           0.045462   \n",
       "host_has_profile_pic           -0.006921           0.009923   \n",
       "host_identity_verified         -0.093779           0.121440   \n",
       "host_response_rate              0.088315           0.072492   \n",
       "instant_bookable                1.000000           0.083113   \n",
       "number_of_reviews               0.083113           1.000000   \n",
       "review_scores_rating           -0.068871           0.011491   \n",
       "bedrooms                       -0.002550          -0.038559   \n",
       "beds                            0.058794           0.023084   \n",
       "\n",
       "                        review_scores_rating  bedrooms      beds  \n",
       "accommodates                       -0.017575  0.720580  0.824606  \n",
       "cleaning_fee                        0.034565  0.113148  0.125711  \n",
       "host_has_profile_pic                0.006810  0.005333 -0.004542  \n",
       "host_identity_verified              0.055667  0.028673  0.027536  \n",
       "host_response_rate                  0.073784  0.018507  0.029024  \n",
       "instant_bookable                   -0.068871 -0.002550  0.058794  \n",
       "number_of_reviews                   0.011491 -0.038559  0.023084  \n",
       "review_scores_rating                1.000000  0.010892 -0.027383  \n",
       "bedrooms                            0.010892  1.000000  0.704928  \n",
       "beds                               -0.027383  0.704928  1.000000  "
      ]
     },
     "execution_count": 17,
     "metadata": {},
     "output_type": "execute_result"
    }
   ],
   "source": [
    "#create correlation table\n",
    "df.corr()"
   ]
  },
  {
   "cell_type": "code",
   "execution_count": 18,
   "metadata": {
    "scrolled": true
   },
   "outputs": [
    {
     "data": {
      "text/plain": [
       "<matplotlib.axes._subplots.AxesSubplot at 0x1a18567cc0>"
      ]
     },
     "execution_count": 18,
     "metadata": {},
     "output_type": "execute_result"
    },
    {
     "data": {
      "image/png": "[encoded data removed]",
      "text/plain": [
       "<Figure size 720x576 with 2 Axes>"
      ]
     },
     "metadata": {
      "needs_background": "light"
     },
     "output_type": "display_data"
    }
   ],
   "source": [
    "#visualize the correlation\n",
    "f, ax = plt.subplots(figsize=(10, 8))\n",
    "corr = df.corr()\n",
    "sns.heatmap(corr, mask=np.zeros_like(corr, dtype=np.bool), cmap=sns.diverging_palette(220, 10, as_cmap=True),\n",
    "            square=True, ax=ax)"
   ]
  },
  {
   "cell_type": "markdown",
   "metadata": {},
   "source": [
    "Judging by the above view, there aren't any features that have a strong correlation, so we can proceed further with making our research parameter a binary metric for further modeling."
   ]
  },
  {
   "cell_type": "code",
   "execution_count": 19,
   "metadata": {},
   "outputs": [],
   "source": [
    "#add a new column with the binary label for scores above or below 90\n",
    "df.loc[df['review_scores_rating']>90, \"rating\"] = \"top\"\n",
    "df.loc[df['review_scores_rating']<=90, \"rating\"] = \"low\""
   ]
  },
  {
   "cell_type": "code",
   "execution_count": 20,
   "metadata": {
    "scrolled": false
   },
   "outputs": [
    {
     "data": {
      "text/html": [
       "<div>\n",
       "<style scoped>\n",
       "    .dataframe tbody tr th:only-of-type {\n",
       "        vertical-align: middle;\n",
       "    }\n",
       "\n",
       "    .dataframe tbody tr th {\n",
       "        vertical-align: top;\n",
       "    }\n",
       "\n",
       "    .dataframe thead th {\n",
       "        text-align: right;\n",
       "    }\n",
       "</style>\n",
       "<table border=\"1\" class=\"dataframe\">\n",
       "  <thead>\n",
       "    <tr style=\"text-align: right;\">\n",
       "      <th></th>\n",
       "      <th>property_type</th>\n",
       "      <th>room_type</th>\n",
       "      <th>accommodates</th>\n",
       "      <th>bed_type</th>\n",
       "      <th>cancellation_policy</th>\n",
       "      <th>cleaning_fee</th>\n",
       "      <th>host_has_profile_pic</th>\n",
       "      <th>host_identity_verified</th>\n",
       "      <th>host_response_rate</th>\n",
       "      <th>instant_bookable</th>\n",
       "      <th>number_of_reviews</th>\n",
       "      <th>bedrooms</th>\n",
       "      <th>beds</th>\n",
       "      <th>rating</th>\n",
       "    </tr>\n",
       "  </thead>\n",
       "  <tbody>\n",
       "    <tr>\n",
       "      <th>0</th>\n",
       "      <td>Apartment</td>\n",
       "      <td>Entire home/apt</td>\n",
       "      <td>3</td>\n",
       "      <td>Real Bed</td>\n",
       "      <td>strict</td>\n",
       "      <td>1</td>\n",
       "      <td>1</td>\n",
       "      <td>1</td>\n",
       "      <td>100</td>\n",
       "      <td>0</td>\n",
       "      <td>2</td>\n",
       "      <td>1</td>\n",
       "      <td>1</td>\n",
       "      <td>top</td>\n",
       "    </tr>\n",
       "    <tr>\n",
       "      <th>1</th>\n",
       "      <td>Apartment</td>\n",
       "      <td>Entire home/apt</td>\n",
       "      <td>7</td>\n",
       "      <td>Real Bed</td>\n",
       "      <td>strict</td>\n",
       "      <td>1</td>\n",
       "      <td>1</td>\n",
       "      <td>0</td>\n",
       "      <td>100</td>\n",
       "      <td>1</td>\n",
       "      <td>6</td>\n",
       "      <td>3</td>\n",
       "      <td>3</td>\n",
       "      <td>top</td>\n",
       "    </tr>\n",
       "    <tr>\n",
       "      <th>2</th>\n",
       "      <td>Apartment</td>\n",
       "      <td>Entire home/apt</td>\n",
       "      <td>5</td>\n",
       "      <td>Real Bed</td>\n",
       "      <td>moderate</td>\n",
       "      <td>1</td>\n",
       "      <td>1</td>\n",
       "      <td>1</td>\n",
       "      <td>100</td>\n",
       "      <td>1</td>\n",
       "      <td>10</td>\n",
       "      <td>1</td>\n",
       "      <td>3</td>\n",
       "      <td>top</td>\n",
       "    </tr>\n",
       "    <tr>\n",
       "      <th>4</th>\n",
       "      <td>Apartment</td>\n",
       "      <td>Entire home/apt</td>\n",
       "      <td>2</td>\n",
       "      <td>Real Bed</td>\n",
       "      <td>moderate</td>\n",
       "      <td>1</td>\n",
       "      <td>1</td>\n",
       "      <td>1</td>\n",
       "      <td>100</td>\n",
       "      <td>1</td>\n",
       "      <td>4</td>\n",
       "      <td>0</td>\n",
       "      <td>1</td>\n",
       "      <td>low</td>\n",
       "    </tr>\n",
       "    <tr>\n",
       "      <th>5</th>\n",
       "      <td>Apartment</td>\n",
       "      <td>Private room</td>\n",
       "      <td>2</td>\n",
       "      <td>Real Bed</td>\n",
       "      <td>strict</td>\n",
       "      <td>1</td>\n",
       "      <td>1</td>\n",
       "      <td>1</td>\n",
       "      <td>100</td>\n",
       "      <td>1</td>\n",
       "      <td>3</td>\n",
       "      <td>1</td>\n",
       "      <td>1</td>\n",
       "      <td>top</td>\n",
       "    </tr>\n",
       "  </tbody>\n",
       "</table>\n",
       "</div>"
      ],
      "text/plain": [
       "  property_type        room_type  accommodates  bed_type cancellation_policy  \\\n",
       "0     Apartment  Entire home/apt             3  Real Bed              strict   \n",
       "1     Apartment  Entire home/apt             7  Real Bed              strict   \n",
       "2     Apartment  Entire home/apt             5  Real Bed            moderate   \n",
       "4     Apartment  Entire home/apt             2  Real Bed            moderate   \n",
       "5     Apartment     Private room             2  Real Bed              strict   \n",
       "\n",
       "   cleaning_fee  host_has_profile_pic  host_identity_verified  \\\n",
       "0             1                     1                       1   \n",
       "1             1                     1                       0   \n",
       "2             1                     1                       1   \n",
       "4             1                     1                       1   \n",
       "5             1                     1                       1   \n",
       "\n",
       "   host_response_rate  instant_bookable  number_of_reviews  bedrooms  beds  \\\n",
       "0                 100                 0                  2         1     1   \n",
       "1                 100                 1                  6         3     3   \n",
       "2                 100                 1                 10         1     3   \n",
       "4                 100                 1                  4         0     1   \n",
       "5                 100                 1                  3         1     1   \n",
       "\n",
       "  rating  \n",
       "0    top  \n",
       "1    top  \n",
       "2    top  \n",
       "4    low  \n",
       "5    top  "
      ]
     },
     "execution_count": 20,
     "metadata": {},
     "output_type": "execute_result"
    }
   ],
   "source": [
    "#drop the original column\n",
    "df = df.drop(['review_scores_rating'], axis=1, inplace=False)\n",
    "df.head()"
   ]
  },
  {
   "cell_type": "markdown",
   "metadata": {},
   "source": [
    "## Data Visualization\n",
    "\n",
    "Data visualization is an important step in the data science process. Exploratory data analysis helps us explore relationships between different metrics and helps us see the trends that might not be immediately noticeable when dealing with large amounts of data.\n",
    "\n",
    "Essentially, we'll be predicting whether a listing has a rating higher or lower than 90. "
   ]
  },
  {
   "cell_type": "code",
   "execution_count": 21,
   "metadata": {},
   "outputs": [
    {
     "data": {
      "image/png": "[encoded data removed]",
      "text/plain": [
       "<Figure size 576x288 with 1 Axes>"
      ]
     },
     "metadata": {
      "needs_background": "light"
     },
     "output_type": "display_data"
    }
   ],
   "source": [
    "#plot rating\n",
    "df['rating'].value_counts(normalize=True).plot(kind='barh', figsize=(8,4), \n",
    "                                             color=['maroon','midnightblue']);"
   ]
  },
  {
   "cell_type": "markdown",
   "metadata": {},
   "source": [
    "Approximately, 80% of listings have a rating higher than 90, while about 20% have a lower score."
   ]
  },
  {
   "cell_type": "code",
   "execution_count": 22,
   "metadata": {},
   "outputs": [
    {
     "data": {
      "image/png": "[encoded data removed]",
      "text/plain": [
       "<Figure size 504x288 with 1 Axes>"
      ]
     },
     "metadata": {
      "needs_background": "light"
     },
     "output_type": "display_data"
    }
   ],
   "source": [
    "#rating dependent on whether the host has a profile picture\n",
    "sub_df = df.groupby('host_has_profile_pic')['rating'].value_counts(normalize=True).unstack()\n",
    "sub_df.plot(kind='bar', color=['midnightblue', 'maroon'], figsize=(7,4))\n",
    "plt.xlabel(\"Host Has Profile Picture\")\n",
    "plt.xticks(rotation=0)\n",
    "plt.ylabel(\"Percentage of Listings\\n\")\n",
    "plt.title('\\nRating Dependent On Host Profile Picture\\n', fontsize=14, fontweight='bold')\n",
    "plt.legend(bbox_to_anchor=(1.2, 1.0), title='Vote');"
   ]
  },
  {
   "cell_type": "code",
   "execution_count": 23,
   "metadata": {},
   "outputs": [
    {
     "data": {
      "image/png": "[encoded data removed]",
      "text/plain": [
       "<Figure size 504x288 with 1 Axes>"
      ]
     },
     "metadata": {
      "needs_background": "light"
     },
     "output_type": "display_data"
    }
   ],
   "source": [
    "#rating dependent on whether the listing is instant bookable\n",
    "sub_df = df.groupby('instant_bookable')['rating'].value_counts(normalize=True).unstack()\n",
    "sub_df.plot(kind='bar', color=['midnightblue', 'maroon'], figsize=(7,4))\n",
    "plt.xlabel(\"Listing Is Instant Bookable\")\n",
    "plt.xticks(rotation=0)\n",
    "plt.ylabel(\"Percentage of Listings\\n\")\n",
    "plt.title('\\nRating Dependent On The Kind Of Listing\\n', fontsize=14, fontweight='bold')\n",
    "plt.legend(bbox_to_anchor=(1.2, 1.0), title='Vote');"
   ]
  },
  {
   "cell_type": "code",
   "execution_count": 24,
   "metadata": {},
   "outputs": [
    {
     "data": {
      "image/png": "[encoded data removed]",
      "text/plain": [
       "<Figure size 504x288 with 1 Axes>"
      ]
     },
     "metadata": {
      "needs_background": "light"
     },
     "output_type": "display_data"
    }
   ],
   "source": [
    "#rating dependent on whether there is cleaning fee\n",
    "sub_df = df.groupby('cleaning_fee')['rating'].value_counts(normalize=True).unstack()\n",
    "sub_df.plot(kind='bar', color=['midnightblue', 'maroon'], figsize=(7,4))\n",
    "plt.xlabel(\"Listing Has Cleaning Fee\")\n",
    "plt.xticks(rotation=0)\n",
    "plt.ylabel(\"Percentage of Listings\\n\")\n",
    "plt.title('\\nRating Dependent On The Cleaning Fee\\n', fontsize=14, fontweight='bold')\n",
    "plt.legend(bbox_to_anchor=(1.2, 1.0), title='Vote');"
   ]
  },
  {
   "cell_type": "code",
   "execution_count": 25,
   "metadata": {},
   "outputs": [
    {
     "data": {
      "image/png": "[encoded data removed]",
      "text/plain": [
       "<Figure size 504x288 with 1 Axes>"
      ]
     },
     "metadata": {
      "needs_background": "light"
     },
     "output_type": "display_data"
    }
   ],
   "source": [
    "#rating dependent on the number of bedrooms\n",
    "sub_df = df.groupby('bedrooms')['rating'].value_counts(normalize=True).unstack()\n",
    "sub_df.plot(kind='bar', color=['midnightblue', 'maroon'], figsize=(7,4))\n",
    "plt.xlabel(\"Number of Bedrooms\")\n",
    "plt.xticks(rotation=0)\n",
    "plt.ylabel(\"Percentage of Listings\\n\")\n",
    "plt.title('\\nRating Dependent On The Number Of Bedrooms\\n', fontsize=14, fontweight='bold')\n",
    "plt.legend(bbox_to_anchor=(1.2, 1.0), title='Vote');"
   ]
  },
  {
   "cell_type": "markdown",
   "metadata": {},
   "source": [
    "Reviewing the above visualizations, although the difference might be slim, but we can notice that listings where a host has a profile picture, that are not instatnly bookable, that have a cleaning fee and feature 7 bedrooms have a higher chance of getting a review over 90. "
   ]
  },
  {
   "cell_type": "markdown",
   "metadata": {},
   "source": [
    "## Modeling\n",
    "\n",
    "Since machine learning algorithmms require a lot of data and can deal with categorical variables, we are going to one-hot encode the cateries in our data set."
   ]
  },
  {
   "cell_type": "code",
   "execution_count": 26,
   "metadata": {},
   "outputs": [],
   "source": [
    "#take out the target variable\n",
    "target = df['rating']\n",
    "df.drop('rating', axis=1, inplace=True)"
   ]
  },
  {
   "cell_type": "code",
   "execution_count": 27,
   "metadata": {
    "scrolled": true
   },
   "outputs": [
    {
     "data": {
      "text/html": [
       "<div>\n",
       "<style scoped>\n",
       "    .dataframe tbody tr th:only-of-type {\n",
       "        vertical-align: middle;\n",
       "    }\n",
       "\n",
       "    .dataframe tbody tr th {\n",
       "        vertical-align: top;\n",
       "    }\n",
       "\n",
       "    .dataframe thead th {\n",
       "        text-align: right;\n",
       "    }\n",
       "</style>\n",
       "<table border=\"1\" class=\"dataframe\">\n",
       "  <thead>\n",
       "    <tr style=\"text-align: right;\">\n",
       "      <th></th>\n",
       "      <th>accommodates</th>\n",
       "      <th>cleaning_fee</th>\n",
       "      <th>host_has_profile_pic</th>\n",
       "      <th>host_identity_verified</th>\n",
       "      <th>host_response_rate</th>\n",
       "      <th>instant_bookable</th>\n",
       "      <th>number_of_reviews</th>\n",
       "      <th>bedrooms</th>\n",
       "      <th>beds</th>\n",
       "      <th>property_type_Apartment</th>\n",
       "      <th>...</th>\n",
       "      <th>bed_type_Airbed</th>\n",
       "      <th>bed_type_Couch</th>\n",
       "      <th>bed_type_Futon</th>\n",
       "      <th>bed_type_Pull-out Sofa</th>\n",
       "      <th>bed_type_Real Bed</th>\n",
       "      <th>cancellation_policy_flexible</th>\n",
       "      <th>cancellation_policy_moderate</th>\n",
       "      <th>cancellation_policy_strict</th>\n",
       "      <th>cancellation_policy_super_strict_30</th>\n",
       "      <th>cancellation_policy_super_strict_60</th>\n",
       "    </tr>\n",
       "  </thead>\n",
       "  <tbody>\n",
       "    <tr>\n",
       "      <th>0</th>\n",
       "      <td>3</td>\n",
       "      <td>1</td>\n",
       "      <td>1</td>\n",
       "      <td>1</td>\n",
       "      <td>100</td>\n",
       "      <td>0</td>\n",
       "      <td>2</td>\n",
       "      <td>1</td>\n",
       "      <td>1</td>\n",
       "      <td>1</td>\n",
       "      <td>...</td>\n",
       "      <td>0</td>\n",
       "      <td>0</td>\n",
       "      <td>0</td>\n",
       "      <td>0</td>\n",
       "      <td>1</td>\n",
       "      <td>0</td>\n",
       "      <td>0</td>\n",
       "      <td>1</td>\n",
       "      <td>0</td>\n",
       "      <td>0</td>\n",
       "    </tr>\n",
       "    <tr>\n",
       "      <th>1</th>\n",
       "      <td>7</td>\n",
       "      <td>1</td>\n",
       "      <td>1</td>\n",
       "      <td>0</td>\n",
       "      <td>100</td>\n",
       "      <td>1</td>\n",
       "      <td>6</td>\n",
       "      <td>3</td>\n",
       "      <td>3</td>\n",
       "      <td>1</td>\n",
       "      <td>...</td>\n",
       "      <td>0</td>\n",
       "      <td>0</td>\n",
       "      <td>0</td>\n",
       "      <td>0</td>\n",
       "      <td>1</td>\n",
       "      <td>0</td>\n",
       "      <td>0</td>\n",
       "      <td>1</td>\n",
       "      <td>0</td>\n",
       "      <td>0</td>\n",
       "    </tr>\n",
       "    <tr>\n",
       "      <th>2</th>\n",
       "      <td>5</td>\n",
       "      <td>1</td>\n",
       "      <td>1</td>\n",
       "      <td>1</td>\n",
       "      <td>100</td>\n",
       "      <td>1</td>\n",
       "      <td>10</td>\n",
       "      <td>1</td>\n",
       "      <td>3</td>\n",
       "      <td>1</td>\n",
       "      <td>...</td>\n",
       "      <td>0</td>\n",
       "      <td>0</td>\n",
       "      <td>0</td>\n",
       "      <td>0</td>\n",
       "      <td>1</td>\n",
       "      <td>0</td>\n",
       "      <td>1</td>\n",
       "      <td>0</td>\n",
       "      <td>0</td>\n",
       "      <td>0</td>\n",
       "    </tr>\n",
       "    <tr>\n",
       "      <th>4</th>\n",
       "      <td>2</td>\n",
       "      <td>1</td>\n",
       "      <td>1</td>\n",
       "      <td>1</td>\n",
       "      <td>100</td>\n",
       "      <td>1</td>\n",
       "      <td>4</td>\n",
       "      <td>0</td>\n",
       "      <td>1</td>\n",
       "      <td>1</td>\n",
       "      <td>...</td>\n",
       "      <td>0</td>\n",
       "      <td>0</td>\n",
       "      <td>0</td>\n",
       "      <td>0</td>\n",
       "      <td>1</td>\n",
       "      <td>0</td>\n",
       "      <td>1</td>\n",
       "      <td>0</td>\n",
       "      <td>0</td>\n",
       "      <td>0</td>\n",
       "    </tr>\n",
       "    <tr>\n",
       "      <th>5</th>\n",
       "      <td>2</td>\n",
       "      <td>1</td>\n",
       "      <td>1</td>\n",
       "      <td>1</td>\n",
       "      <td>100</td>\n",
       "      <td>1</td>\n",
       "      <td>3</td>\n",
       "      <td>1</td>\n",
       "      <td>1</td>\n",
       "      <td>1</td>\n",
       "      <td>...</td>\n",
       "      <td>0</td>\n",
       "      <td>0</td>\n",
       "      <td>0</td>\n",
       "      <td>0</td>\n",
       "      <td>1</td>\n",
       "      <td>0</td>\n",
       "      <td>0</td>\n",
       "      <td>1</td>\n",
       "      <td>0</td>\n",
       "      <td>0</td>\n",
       "    </tr>\n",
       "  </tbody>\n",
       "</table>\n",
       "<p>5 rows × 54 columns</p>\n",
       "</div>"
      ],
      "text/plain": [
       "   accommodates  cleaning_fee  host_has_profile_pic  host_identity_verified  \\\n",
       "0             3             1                     1                       1   \n",
       "1             7             1                     1                       0   \n",
       "2             5             1                     1                       1   \n",
       "4             2             1                     1                       1   \n",
       "5             2             1                     1                       1   \n",
       "\n",
       "   host_response_rate  instant_bookable  number_of_reviews  bedrooms  beds  \\\n",
       "0                 100                 0                  2         1     1   \n",
       "1                 100                 1                  6         3     3   \n",
       "2                 100                 1                 10         1     3   \n",
       "4                 100                 1                  4         0     1   \n",
       "5                 100                 1                  3         1     1   \n",
       "\n",
       "   property_type_Apartment                 ...                   \\\n",
       "0                        1                 ...                    \n",
       "1                        1                 ...                    \n",
       "2                        1                 ...                    \n",
       "4                        1                 ...                    \n",
       "5                        1                 ...                    \n",
       "\n",
       "   bed_type_Airbed  bed_type_Couch  bed_type_Futon  bed_type_Pull-out Sofa  \\\n",
       "0                0               0               0                       0   \n",
       "1                0               0               0                       0   \n",
       "2                0               0               0                       0   \n",
       "4                0               0               0                       0   \n",
       "5                0               0               0                       0   \n",
       "\n",
       "   bed_type_Real Bed  cancellation_policy_flexible  \\\n",
       "0                  1                             0   \n",
       "1                  1                             0   \n",
       "2                  1                             0   \n",
       "4                  1                             0   \n",
       "5                  1                             0   \n",
       "\n",
       "   cancellation_policy_moderate  cancellation_policy_strict  \\\n",
       "0                             0                           1   \n",
       "1                             0                           1   \n",
       "2                             1                           0   \n",
       "4                             1                           0   \n",
       "5                             0                           1   \n",
       "\n",
       "   cancellation_policy_super_strict_30  cancellation_policy_super_strict_60  \n",
       "0                                    0                                    0  \n",
       "1                                    0                                    0  \n",
       "2                                    0                                    0  \n",
       "4                                    0                                    0  \n",
       "5                                    0                                    0  \n",
       "\n",
       "[5 rows x 54 columns]"
      ]
     },
     "execution_count": 27,
     "metadata": {},
     "output_type": "execute_result"
    }
   ],
   "source": [
    "#create dummy variables\n",
    "df = pd.get_dummies(df)\n",
    "df.head()"
   ]
  },
  {
   "cell_type": "markdown",
   "metadata": {},
   "source": [
    "For this project, we are going to utilize one of the ensemble methods - random forest classifier. Ensemble methods have a much higher accuracy and prediction power than simple one step methods, although they take more computational capacity.\n",
    "\n",
    "Some of the parameters we are going to use here are:\n",
    "n_estimators = number of trees, \n",
    "criterion = splitting criterion (for maximizing the information gain from each split), \n",
    "max_features = max number of features considered for splitting a node, \n",
    "max_depth = max number of levels in each decision tree, \n",
    "min_samples_split = min samples needed to make a split"
   ]
  },
  {
   "cell_type": "code",
   "execution_count": 28,
   "metadata": {},
   "outputs": [],
   "source": [
    "#split data and target into training and testing sets\n",
    "data_train, data_test, target_train, target_test = train_test_split(df, target, \n",
    "                                                                   test_size = 0.25, random_state=123)"
   ]
  },
  {
   "cell_type": "markdown",
   "metadata": {},
   "source": [
    "For comparison with the random forest ensemble method, first off we are going to create a decision tree classifier."
   ]
  },
  {
   "cell_type": "code",
   "execution_count": 29,
   "metadata": {},
   "outputs": [
    {
     "data": {
      "text/plain": [
       "DecisionTreeClassifier(class_weight=None, criterion='gini', max_depth=5,\n",
       "            max_features=None, max_leaf_nodes=None,\n",
       "            min_impurity_decrease=0.0, min_impurity_split=None,\n",
       "            min_samples_leaf=1, min_samples_split=2,\n",
       "            min_weight_fraction_leaf=0.0, presort=False, random_state=None,\n",
       "            splitter='best')"
      ]
     },
     "execution_count": 29,
     "metadata": {},
     "output_type": "execute_result"
    }
   ],
   "source": [
    "#create and fit the tree\n",
    "tree_clf = DecisionTreeClassifier(criterion = \"gini\", max_depth = 5) \n",
    "tree_clf.fit(data_train, target_train)"
   ]
  },
  {
   "cell_type": "code",
   "execution_count": 30,
   "metadata": {},
   "outputs": [
    {
     "data": {
      "text/plain": [
       "array([0.0421877 , 0.        , 0.        , 0.        , 0.26419331,\n",
       "       0.15061286, 0.36543596, 0.        , 0.02003696, 0.0504586 ,\n",
       "       0.        , 0.        , 0.01744278, 0.        , 0.        ,\n",
       "       0.        , 0.        , 0.        , 0.        , 0.        ,\n",
       "       0.        , 0.        , 0.        , 0.        , 0.        ,\n",
       "       0.        , 0.        , 0.        , 0.        , 0.        ,\n",
       "       0.00392065, 0.        , 0.        , 0.        , 0.        ,\n",
       "       0.        , 0.        , 0.        , 0.        , 0.        ,\n",
       "       0.        , 0.01218499, 0.02120538, 0.02320822, 0.        ,\n",
       "       0.        , 0.        , 0.        , 0.        , 0.        ,\n",
       "       0.        , 0.0291126 , 0.        , 0.        ])"
      ]
     },
     "execution_count": 30,
     "metadata": {},
     "output_type": "execute_result"
    }
   ],
   "source": [
    "#check feature importance\n",
    "tree_clf.feature_importances_"
   ]
  },
  {
   "cell_type": "code",
   "execution_count": 31,
   "metadata": {
    "scrolled": true
   },
   "outputs": [
    {
     "data": {
      "image/png": "[encoded data removed]",
      "text/plain": [
       "<Figure size 576x576 with 1 Axes>"
      ]
     },
     "metadata": {
      "needs_background": "light"
     },
     "output_type": "display_data"
    }
   ],
   "source": [
    "#visualize feature importance\n",
    "def plot_feature_importances(model):\n",
    "    n_features = data_train.shape[1]\n",
    "    plt.figure(figsize=(8,8))\n",
    "    plt.barh(range(n_features), model.feature_importances_, align='center') \n",
    "    plt.yticks(np.arange(n_features), data_train.columns.values) \n",
    "    plt.xlabel(\"Feature importance\")\n",
    "    plt.ylabel(\"Feature\")\n",
    "\n",
    "plot_feature_importances(tree_clf)"
   ]
  },
  {
   "cell_type": "markdown",
   "metadata": {},
   "source": [
    "Let's see how our model performs on data. We'll use classifier to get predictions on our test set, create a confusion matrix, and a classification report."
   ]
  },
  {
   "cell_type": "code",
   "execution_count": 32,
   "metadata": {},
   "outputs": [
    {
     "name": "stdout",
     "output_type": "stream",
     "text": [
      "[[   74  3020]\n",
      " [   81 11107]]\n",
      "              precision    recall  f1-score   support\n",
      "\n",
      "         low       0.48      0.02      0.05      3094\n",
      "         top       0.79      0.99      0.88     11188\n",
      "\n",
      "   micro avg       0.78      0.78      0.78     14282\n",
      "   macro avg       0.63      0.51      0.46     14282\n",
      "weighted avg       0.72      0.78      0.70     14282\n",
      "\n"
     ]
    }
   ],
   "source": [
    "#run classifier\n",
    "pred = tree_clf.predict(data_test)\n",
    "print(confusion_matrix(target_test, pred))\n",
    "print(classification_report(target_test, pred))"
   ]
  },
  {
   "cell_type": "code",
   "execution_count": 33,
   "metadata": {
    "scrolled": true
   },
   "outputs": [
    {
     "name": "stdout",
     "output_type": "stream",
     "text": [
      "Testing Accuracy for Decision Tree Classifier: 78.29%\n"
     ]
    }
   ],
   "source": [
    "#check the model accuracy\n",
    "print(\"Testing Accuracy for Decision Tree Classifier: {:.4}%\".format(accuracy_score(target_test, pred) * 100))"
   ]
  },
  {
   "cell_type": "markdown",
   "metadata": {},
   "source": [
    "Now for the first ensemble approach we are going to use bagging."
   ]
  },
  {
   "cell_type": "code",
   "execution_count": 34,
   "metadata": {},
   "outputs": [],
   "source": [
    "#create bagging classifier\n",
    "bagged_tree =  BaggingClassifier(DecisionTreeClassifier(criterion='gini', max_depth=5), n_estimators=20)"
   ]
  },
  {
   "cell_type": "code",
   "execution_count": 35,
   "metadata": {
    "scrolled": true
   },
   "outputs": [
    {
     "data": {
      "text/plain": [
       "BaggingClassifier(base_estimator=DecisionTreeClassifier(class_weight=None, criterion='gini', max_depth=5,\n",
       "            max_features=None, max_leaf_nodes=None,\n",
       "            min_impurity_decrease=0.0, min_impurity_split=None,\n",
       "            min_samples_leaf=1, min_samples_split=2,\n",
       "            min_weight_fraction_leaf=0.0, presort=False, random_state=None,\n",
       "            splitter='best'),\n",
       "         bootstrap=True, bootstrap_features=False, max_features=1.0,\n",
       "         max_samples=1.0, n_estimators=20, n_jobs=None, oob_score=False,\n",
       "         random_state=None, verbose=0, warm_start=False)"
      ]
     },
     "execution_count": 35,
     "metadata": {},
     "output_type": "execute_result"
    }
   ],
   "source": [
    "#fit to training data\n",
    "bagged_tree.fit(data_train, target_train)"
   ]
  },
  {
   "cell_type": "code",
   "execution_count": 36,
   "metadata": {},
   "outputs": [
    {
     "data": {
      "text/plain": [
       "0.78869853421716"
      ]
     },
     "execution_count": 36,
     "metadata": {},
     "output_type": "execute_result"
    }
   ],
   "source": [
    "#check for training accuracy\n",
    "bagged_tree.score(data_train, target_train)"
   ]
  },
  {
   "cell_type": "code",
   "execution_count": 37,
   "metadata": {},
   "outputs": [
    {
     "data": {
      "text/plain": [
       "0.7835037109648508"
      ]
     },
     "execution_count": 37,
     "metadata": {},
     "output_type": "execute_result"
    }
   ],
   "source": [
    "#check for testing accuracy\n",
    "bagged_tree.score(data_test, target_test)"
   ]
  },
  {
   "cell_type": "markdown",
   "metadata": {},
   "source": [
    "Moving forward, we are going to fit a random forests model and see how it performs in comparison with the prevous builds."
   ]
  },
  {
   "cell_type": "code",
   "execution_count": 38,
   "metadata": {},
   "outputs": [
    {
     "data": {
      "text/plain": [
       "RandomForestClassifier(bootstrap=True, class_weight=None, criterion='gini',\n",
       "            max_depth=5, max_features='auto', max_leaf_nodes=None,\n",
       "            min_impurity_decrease=0.0, min_impurity_split=None,\n",
       "            min_samples_leaf=1, min_samples_split=2,\n",
       "            min_weight_fraction_leaf=0.0, n_estimators=100, n_jobs=None,\n",
       "            oob_score=False, random_state=None, verbose=0,\n",
       "            warm_start=False)"
      ]
     },
     "execution_count": 38,
     "metadata": {},
     "output_type": "execute_result"
    }
   ],
   "source": [
    "#create and fit classifier\n",
    "forest = RandomForestClassifier(n_estimators=100, max_depth= 5)\n",
    "forest.fit(data_train, target_train)"
   ]
  },
  {
   "cell_type": "code",
   "execution_count": 39,
   "metadata": {
    "scrolled": true
   },
   "outputs": [
    {
     "data": {
      "text/plain": [
       "0.7860610587246756"
      ]
     },
     "execution_count": 39,
     "metadata": {},
     "output_type": "execute_result"
    }
   ],
   "source": [
    "#check training accuracy\n",
    "forest.score(data_train, target_train)"
   ]
  },
  {
   "cell_type": "code",
   "execution_count": 40,
   "metadata": {},
   "outputs": [
    {
     "data": {
      "text/plain": [
       "0.7834336927601177"
      ]
     },
     "execution_count": 40,
     "metadata": {},
     "output_type": "execute_result"
    }
   ],
   "source": [
    "#check testing accuracy\n",
    "forest.score(data_test, target_test)"
   ]
  },
  {
   "cell_type": "code",
   "execution_count": 41,
   "metadata": {},
   "outputs": [
    {
     "data": {
      "image/png": "[encoded data removed]",
      "text/plain": [
       "<Figure size 576x576 with 1 Axes>"
      ]
     },
     "metadata": {
      "needs_background": "light"
     },
     "output_type": "display_data"
    }
   ],
   "source": [
    "#check feature importance\n",
    "plot_feature_importances(forest)"
   ]
  },
  {
   "cell_type": "markdown",
   "metadata": {},
   "source": [
    "We have more features showing up than before which is pretty typical of random forests."
   ]
  },
  {
   "cell_type": "code",
   "execution_count": 42,
   "metadata": {},
   "outputs": [
    {
     "data": {
      "text/plain": [
       "RandomForestClassifier(bootstrap=True, class_weight=None, criterion='gini',\n",
       "            max_depth=2, max_features=10, max_leaf_nodes=None,\n",
       "            min_impurity_decrease=0.0, min_impurity_split=None,\n",
       "            min_samples_leaf=1, min_samples_split=2,\n",
       "            min_weight_fraction_leaf=0.0, n_estimators=5, n_jobs=None,\n",
       "            oob_score=False, random_state=None, verbose=0,\n",
       "            warm_start=False)"
      ]
     },
     "execution_count": 42,
     "metadata": {},
     "output_type": "execute_result"
    }
   ],
   "source": [
    "#create a forest with smaller trees\n",
    "forest_2 = RandomForestClassifier(n_estimators = 5, max_features= 10, max_depth= 2)\n",
    "forest_2.fit(data_train, target_train)"
   ]
  },
  {
   "cell_type": "code",
   "execution_count": 43,
   "metadata": {},
   "outputs": [],
   "source": [
    "#get the first tree\n",
    "rf_tree_1 = forest_2.estimators_[0]"
   ]
  },
  {
   "cell_type": "code",
   "execution_count": 44,
   "metadata": {},
   "outputs": [
    {
     "data": {
      "image/png": "[encoded data removed]",
      "text/plain": [
       "<Figure size 576x576 with 1 Axes>"
      ]
     },
     "metadata": {
      "needs_background": "light"
     },
     "output_type": "display_data"
    }
   ],
   "source": [
    "#check what features were used\n",
    "plot_feature_importances(rf_tree_1)"
   ]
  },
  {
   "cell_type": "code",
   "execution_count": 45,
   "metadata": {},
   "outputs": [],
   "source": [
    "#take second tree\n",
    "rf_tree_2 = forest_2.estimators_[1]"
   ]
  },
  {
   "cell_type": "code",
   "execution_count": 46,
   "metadata": {},
   "outputs": [
    {
     "data": {
      "image/png": "[encoded data removed]",
      "text/plain": [
       "<Figure size 576x576 with 1 Axes>"
      ]
     },
     "metadata": {
      "needs_background": "light"
     },
     "output_type": "display_data"
    }
   ],
   "source": [
    "#consider the features\n",
    "plot_feature_importances(rf_tree_2)"
   ]
  },
  {
   "cell_type": "markdown",
   "metadata": {},
   "source": [
    "## Conclusion\n",
    "\n",
    "The random forests model we created predicts the rating of a listing with an accuracy of 78.34%. Top 6 features with the importance of 5% or higher that factor into classifying the rating are the number of reviews, host response rate, whether the listing is instant bookable, property type - Apartment, moderate cancellation policy, verified host identity. \n",
    "\n",
    "Anectodally, these features do seem to make sense. For instance, if a listing has a lot of reviews it means it has been booked many times, and if it has been booked many times, chances are it is the place where people like to stay. The number of reviews also presents a well-rounded view of the listing, so the guests know what to expect, and even if they find something that's not to their liking, it's not a surprise, because they have already read about it in the review, so their choise of rating is not affected. \n",
    "\n",
    "Host response rate is also a telling indicator. The more the host replies, the higher the chances they build a relationship with their potential guest during the pre-booking process, so the guest are less likely to cancel and are more likely to rate the listing highly."
   ]
  },
  {
   "cell_type": "markdown",
   "metadata": {},
   "source": [
    "## Next Steps\n",
    "\n",
    "The next steps for this research would be to build classification models relying on other machine learning algorithms: Logistic Regression, Support Vector Machines, and XGBoost. XGBoost is considered one of the most spot-on classificaton methods, so it would be interesting to consider if an accuracy of such model goes higher in comparison with the random forests. \n",
    "\n",
    "During the current research, we filled the missing values in response rate with median values. While this is a good way to deal with missing values, it might have affected the accuracy of our model and lead to skewed results. In further research we can consider dropping missing values altogether to only base our predictions on actual data.\n",
    "\n",
    "For the purposes of our study, we took out some of the features from the original data set. However, some of them might have factored into how guests evaluate the listings. For instance, we have not considered the geographical component at all, while in further research we might discover that the rating depends on the city we are reviewing or, furthermore, on the location within the same city, i.e. listings in downtown area might be rated higher than those on the ourskirts."
   ]
  }
 ],
 "metadata": {
  "kernelspec": {
   "display_name": "learn-env",
   "language": "python",
   "name": "learn-env"
  },
  "language_info": {
   "codemirror_mode": {
    "name": "ipython",
    "version": 3
   },
   "file_extension": ".py",
   "mimetype": "text/x-python",
   "name": "python",
   "nbconvert_exporter": "python",
   "pygments_lexer": "ipython3",
   "version": "3.6.6"
  }
 },
 "nbformat": 4,
 "nbformat_minor": 2
}
